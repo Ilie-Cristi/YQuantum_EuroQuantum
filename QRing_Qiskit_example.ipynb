{
 "cells": [
  {
   "cell_type": "code",
   "execution_count": null,
   "id": "7a4ca1b3",
   "metadata": {},
   "outputs": [],
   "source": [
    "# Import the required modules\n",
    "from qiskit.circuit import QuantumCircuit\n",
    "from qiskit import QuantumCircuit, transpile, QuantumRegister, ClassicalRegister\n",
    "\n",
    "from QuantumRingsLib import QuantumRingsProvider\n",
    "from quantumrings.toolkit.qiskit import QrBackendV2\n",
    "\n",
    "# Acquire the Quantum Rings Provider\n",
    "qr_provider = QuantumRingsProvider()"
   ]
  },
  {
   "cell_type": "markdown",
   "id": "a50dff46",
   "metadata": {},
   "source": [
    "This is just an example illustrating how one can use Quantum Rings with Qiskit. We will execute simple circuit on QrBackend"
   ]
  },
  {
   "cell_type": "code",
   "execution_count": null,
   "id": "4f374b0b",
   "metadata": {},
   "outputs": [],
   "source": [
    "shots = 1000\n",
    "numberofqubits =  int(qr_provider.active_account()[\"max_qubits\"])\n",
    "q = QuantumRegister(numberofqubits , 'q')\n",
    "c = ClassicalRegister(numberofqubits , 'c')\n",
    "qc = QuantumCircuit(q, c)\n",
    "\n",
    "\"\"\"     Circuit definition     \"\"\"\n",
    "# Create the GHZ state (Greenberger–Horne–Zeilinger)\n",
    "qc.h(0);\n",
    "for i in range (qc.num_qubits - 1):\n",
    "    qc.cx(i, i + 1);\n",
    "\n",
    "# Measure all qubits\n",
    "qc.measure_all();"
   ]
  },
  {
   "cell_type": "code",
   "execution_count": null,
   "id": "1bb25f00",
   "metadata": {},
   "outputs": [
    {
     "name": "stdout",
     "output_type": "stream",
     "text": [
      "{'0000000000000000000000000000000000000000000000000000000000000000000000000000000000000000000000000000000000000000000000000000000000000000000000000000000000000000000000000000000000000000000000000000000000000000000000000000000000000000000000000000000000000000000000000000000000000000000000000000000000000000000000000000000000000000000000000000000000000000000000000000000000000000000000000000000000000000': 502, '0000000000000000000000000000000000000000000000000000000000000000000000000000000000000000000000000000000000000000000000000000000000000000000000000000000000000000000000000000000000000000000000000000000011111111111111111111111111111111111111111111111111111111111111111111111111111111111111111111111111111111111111111111111111111111111111111111111111111111111111111111111111111111111111111111111111111111': 498}\n"
     ]
    }
   ],
   "source": [
    "\"\"\"     Execution on Quantum Rings simulator     \"\"\"\n",
    "# Execute the quantum code\n",
    "mybackend = QrBackendV2(qr_provider, num_qubits = qc.num_qubits)\n",
    "qc_transpiled = transpile(qc, mybackend, initial_layout=[i for i in range(0, qc.num_qubits)])\n",
    "job = mybackend.run(qc_transpiled, shots = shots)\n",
    "\n",
    "result = job.result()\n",
    "counts = result.get_counts()\n",
    "#plot_histogram(counts)\n",
    "print(counts)"
   ]
  }
 ],
 "metadata": {
  "kernelspec": {
   "display_name": ".venv",
   "language": "python",
   "name": "python3"
  },
  "language_info": {
   "codemirror_mode": {
    "name": "ipython",
    "version": 3
   },
   "file_extension": ".py",
   "mimetype": "text/x-python",
   "name": "python",
   "nbconvert_exporter": "python",
   "pygments_lexer": "ipython3",
   "version": "3.11.9"
  }
 },
 "nbformat": 4,
 "nbformat_minor": 5
}
